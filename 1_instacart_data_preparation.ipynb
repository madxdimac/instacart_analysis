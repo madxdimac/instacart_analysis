{
 "cells": [
  {
   "cell_type": "markdown",
   "metadata": {},
   "source": [
    "# SUMMARY\n",
    "---"
   ]
  },
  {
   "cell_type": "markdown",
   "metadata": {},
   "source": [
    "## TODO: Describe purpose of this notebook"
   ]
  },
  {
   "cell_type": "markdown",
   "metadata": {},
   "source": [
    "# SETUP\n",
    "---"
   ]
  },
  {
   "cell_type": "markdown",
   "metadata": {},
   "source": [
    "## import packages"
   ]
  },
  {
   "cell_type": "code",
   "execution_count": 1,
   "metadata": {},
   "outputs": [],
   "source": [
    "import findspark\n",
    "import pyspark\n",
    "import numpy as np\n",
    "\n",
    "from pyspark.sql import SparkSession, SQLContext\n",
    "from pyspark.sql.types import StructType, StructField, IntegerType, StringType, FloatType\n",
    "from pyspark.sql.functions import isnan, when, count, col"
   ]
  },
  {
   "cell_type": "markdown",
   "metadata": {},
   "source": [
    "## sparkcontext | sqlcontext"
   ]
  },
  {
   "cell_type": "code",
   "execution_count": 2,
   "metadata": {},
   "outputs": [],
   "source": [
    "# Create SparkContext object\n",
    "# SparkContext is the main entry point for Spark functionality\n",
    "spark = SparkSession.builder.appName('InstaCart').getOrCreate()\n",
    "\n",
    "# Create SQLContext object\n",
    "# SQLContext is the entry point into all relational functionality in Spark\n",
    "sql = SQLContext(spark)"
   ]
  },
  {
   "cell_type": "markdown",
   "metadata": {},
   "source": [
    "## define constants"
   ]
  },
  {
   "cell_type": "code",
   "execution_count": 3,
   "metadata": {},
   "outputs": [
    {
     "name": "stdout",
     "output_type": "stream",
     "text": [
      "--- constants initialized ---\n"
     ]
    }
   ],
   "source": [
    "DEBUG = False\n",
    "WRITE_TO_FILE = True\n",
    "print('--- constants initialized ---')"
   ]
  },
  {
   "cell_type": "markdown",
   "metadata": {},
   "source": [
    "## load data"
   ]
  },
  {
   "cell_type": "markdown",
   "metadata": {},
   "source": [
    "### define schemas"
   ]
  },
  {
   "cell_type": "code",
   "execution_count": 4,
   "metadata": {},
   "outputs": [],
   "source": [
    "# define schema for each file to enforce data types\n",
    "\n",
    "# define schema for aisles.csv\n",
    "schema_aisles = StructType([StructField('aisle_id', IntegerType(), False), \n",
    "                            StructField('aisle', StringType(), False)])\n",
    "                           \n",
    "# define schema for departments.csv\n",
    "schema_departments = StructType([StructField('department_id', IntegerType(), False), \n",
    "                                 StructField('department', StringType(), False)])\n",
    "                          \n",
    "# define schema for orders.csv\n",
    "schema_orders = StructType([StructField('order_id', IntegerType(), False), \n",
    "                            StructField('user_id', IntegerType(), False), \n",
    "                            StructField('eval_set', StringType(), False), \n",
    "                            StructField('order_number', IntegerType(), False), \n",
    "                            StructField('order_dow', IntegerType(), False), \n",
    "                            StructField('order_hour_of_day', IntegerType(), False), \n",
    "                            StructField('days_since_prior_order', FloatType(), False)])\n",
    "                           \n",
    "# define schema for products.csv\n",
    "schema_products = StructType([StructField('product_id', IntegerType(), False), \n",
    "                              StructField('product_name', StringType(), False), \n",
    "                              StructField('aisle_id', IntegerType(), False), \n",
    "                              StructField('department_id', IntegerType(), False)])\n",
    "                             \n",
    "# define schema for order_products__prior.csv / order_products__train.csv\n",
    "schema_order_products = StructType([StructField('order_id', IntegerType(), False), \n",
    "                                    StructField('product_id', IntegerType(), False), \n",
    "                                    StructField('add_to_cart_order', IntegerType(), False), \n",
    "                                    StructField('reordered', IntegerType(), False)])"
   ]
  },
  {
   "cell_type": "markdown",
   "metadata": {},
   "source": [
    "### create spark dataframes"
   ]
  },
  {
   "cell_type": "code",
   "execution_count": 5,
   "metadata": {},
   "outputs": [],
   "source": [
    "df_aisles = spark.read.csv('aisles.csv', header=True, schema=schema_aisles)\n",
    "df_departments = spark.read.csv('departments.csv', header=True, schema=schema_departments)\n",
    "df_orders = spark.read.csv('orders.csv', header=True, schema=schema_orders)\n",
    "df_products = spark.read.csv('products.csv', header=True, schema=schema_products)\n",
    "df_order_products = spark.read.csv('order_products__prior.csv', header=True, schema=schema_order_products)\n",
    "df_order_products2 = spark.read.csv('order_products__train.csv', header=True, schema=schema_order_products)"
   ]
  },
  {
   "cell_type": "markdown",
   "metadata": {},
   "source": [
    "# DATA INSPECTION\n",
    "---"
   ]
  },
  {
   "cell_type": "markdown",
   "metadata": {},
   "source": [
    "## aisles"
   ]
  },
  {
   "cell_type": "markdown",
   "metadata": {},
   "source": [
    "### aisles schema"
   ]
  },
  {
   "cell_type": "code",
   "execution_count": 6,
   "metadata": {},
   "outputs": [
    {
     "name": "stdout",
     "output_type": "stream",
     "text": [
      "--- aisles: schema ---\n",
      "root\n",
      " |-- aisle_id: integer (nullable = true)\n",
      " |-- aisle: string (nullable = true)\n",
      "\n",
      "None\n"
     ]
    }
   ],
   "source": [
    "print('--- aisles: schema ---')\n",
    "print(df_aisles.printSchema())"
   ]
  },
  {
   "cell_type": "markdown",
   "metadata": {},
   "source": [
    "### aisles head"
   ]
  },
  {
   "cell_type": "code",
   "execution_count": 63,
   "metadata": {},
   "outputs": [
    {
     "name": "stdout",
     "output_type": "stream",
     "text": [
      "--- aisles: head ---\n",
      "+--------+--------------------+\n",
      "|aisle_id|               aisle|\n",
      "+--------+--------------------+\n",
      "|       1|prepared soups sa...|\n",
      "|       2|   specialty cheeses|\n",
      "|       3| energy granola bars|\n",
      "|       4|       instant foods|\n",
      "|       5|marinades meat pr...|\n",
      "+--------+--------------------+\n",
      "only showing top 5 rows\n",
      "\n",
      "None\n"
     ]
    }
   ],
   "source": [
    "print('--- aisles: head ---')\n",
    "print(df_aisles.show(5))"
   ]
  },
  {
   "cell_type": "markdown",
   "metadata": {},
   "source": [
    "### aisles statistics"
   ]
  },
  {
   "cell_type": "code",
   "execution_count": 8,
   "metadata": {},
   "outputs": [
    {
     "name": "stdout",
     "output_type": "stream",
     "text": [
      "--- aisles: unique aisle_id ---\n",
      "num unique: 134\n",
      "unique values: [1, 2, 3, 4, 5, 6, 7, 8, 9, 10, 11, 12, 13, 14, 15, 16, 17, 18, 19, 20, 21, 22, 23, 24, 25, 26, 27, 28, 29, 30, 31, 32, 33, 34, 35, 36, 37, 38, 39, 40, 41, 42, 43, 44, 45, 46, 47, 48, 49, 50, 51, 52, 53, 54, 55, 56, 57, 58, 59, 60, 61, 62, 63, 64, 65, 66, 67, 68, 69, 70, 71, 72, 73, 74, 75, 76, 77, 78, 79, 80, 81, 82, 83, 84, 85, 86, 87, 88, 89, 90, 91, 92, 93, 94, 95, 96, 97, 98, 99, 100, 101, 102, 103, 104, 105, 106, 107, 108, 109, 110, 111, 112, 113, 114, 115, 116, 117, 118, 119, 120, 121, 122, 123, 124, 125, 126, 127, 128, 129, 130, 131, 132, 133, 134]\n"
     ]
    }
   ],
   "source": [
    "print('--- aisles: unique aisle_id ---')\n",
    "print('num unique:',len(df_aisles.select('aisle_id').distinct().collect()))\n",
    "print('unique values:',sorted([int(row['aisle_id']) for row in df_aisles.select('aisle_id').distinct().collect()]))"
   ]
  },
  {
   "cell_type": "markdown",
   "metadata": {},
   "source": [
    "### aisles summary\n",
    "- There are 134 unique aisle_id values, numbered from 1 to 134."
   ]
  },
  {
   "cell_type": "markdown",
   "metadata": {
    "heading_collapsed": true
   },
   "source": [
    "## departments"
   ]
  },
  {
   "cell_type": "markdown",
   "metadata": {
    "hidden": true
   },
   "source": [
    "### departments schema"
   ]
  },
  {
   "cell_type": "code",
   "execution_count": 9,
   "metadata": {
    "hidden": true
   },
   "outputs": [
    {
     "name": "stdout",
     "output_type": "stream",
     "text": [
      "--- departments: schema ---\n",
      "root\n",
      " |-- department_id: integer (nullable = true)\n",
      " |-- department: string (nullable = true)\n",
      "\n",
      "None\n"
     ]
    }
   ],
   "source": [
    "print('--- departments: schema ---')\n",
    "print(df_departments.printSchema())"
   ]
  },
  {
   "cell_type": "markdown",
   "metadata": {
    "hidden": true
   },
   "source": [
    "### departments head"
   ]
  },
  {
   "cell_type": "code",
   "execution_count": 10,
   "metadata": {
    "hidden": true
   },
   "outputs": [
    {
     "name": "stdout",
     "output_type": "stream",
     "text": [
      "--- departments: head ---\n",
      "+-------------+----------+\n",
      "|department_id|department|\n",
      "+-------------+----------+\n",
      "|            1|    frozen|\n",
      "|            2|     other|\n",
      "|            3|    bakery|\n",
      "|            4|   produce|\n",
      "|            5|   alcohol|\n",
      "+-------------+----------+\n",
      "only showing top 5 rows\n",
      "\n",
      "None\n"
     ]
    }
   ],
   "source": [
    "print('--- departments: head ---')\n",
    "print(df_departments.show(5))"
   ]
  },
  {
   "cell_type": "markdown",
   "metadata": {
    "hidden": true
   },
   "source": [
    "### departments statistics"
   ]
  },
  {
   "cell_type": "code",
   "execution_count": 11,
   "metadata": {
    "hidden": true
   },
   "outputs": [
    {
     "name": "stdout",
     "output_type": "stream",
     "text": [
      "--- department: unique department_id ---\n",
      "num unique: 21\n",
      "unique values: [1, 2, 3, 4, 5, 6, 7, 8, 9, 10, 11, 12, 13, 14, 15, 16, 17, 18, 19, 20, 21]\n"
     ]
    }
   ],
   "source": [
    "print('--- department: unique department_id ---')\n",
    "print('num unique:',len(df_departments.select('department_id').distinct().collect()))\n",
    "print('unique values:',sorted([int(row['department_id']) for row in df_departments.select('department_id').distinct().collect()]))"
   ]
  },
  {
   "cell_type": "markdown",
   "metadata": {
    "hidden": true
   },
   "source": [
    "### departments summary\n",
    "- There are 21 unique department_id values, numbered from 1 to 21."
   ]
  },
  {
   "cell_type": "markdown",
   "metadata": {
    "heading_collapsed": true
   },
   "source": [
    "## orders"
   ]
  },
  {
   "cell_type": "markdown",
   "metadata": {
    "hidden": true
   },
   "source": [
    "### orders schema"
   ]
  },
  {
   "cell_type": "code",
   "execution_count": 12,
   "metadata": {
    "hidden": true
   },
   "outputs": [
    {
     "name": "stdout",
     "output_type": "stream",
     "text": [
      "--- orders: schema ---\n",
      "root\n",
      " |-- order_id: integer (nullable = true)\n",
      " |-- user_id: integer (nullable = true)\n",
      " |-- eval_set: string (nullable = true)\n",
      " |-- order_number: integer (nullable = true)\n",
      " |-- order_dow: integer (nullable = true)\n",
      " |-- order_hour_of_day: integer (nullable = true)\n",
      " |-- days_since_prior_order: float (nullable = true)\n",
      "\n",
      "None\n"
     ]
    }
   ],
   "source": [
    "print('--- orders: schema ---')\n",
    "print(df_orders.printSchema())"
   ]
  },
  {
   "cell_type": "markdown",
   "metadata": {
    "hidden": true
   },
   "source": [
    "### orders head"
   ]
  },
  {
   "cell_type": "code",
   "execution_count": 13,
   "metadata": {
    "hidden": true
   },
   "outputs": [
    {
     "name": "stdout",
     "output_type": "stream",
     "text": [
      "--- orders: head ---\n",
      "+--------+-------+--------+------------+---------+-----------------+----------------------+\n",
      "|order_id|user_id|eval_set|order_number|order_dow|order_hour_of_day|days_since_prior_order|\n",
      "+--------+-------+--------+------------+---------+-----------------+----------------------+\n",
      "| 2539329|      1|   prior|           1|        2|                8|                  null|\n",
      "| 2398795|      1|   prior|           2|        3|                7|                  15.0|\n",
      "|  473747|      1|   prior|           3|        3|               12|                  21.0|\n",
      "| 2254736|      1|   prior|           4|        4|                7|                  29.0|\n",
      "|  431534|      1|   prior|           5|        4|               15|                  28.0|\n",
      "+--------+-------+--------+------------+---------+-----------------+----------------------+\n",
      "only showing top 5 rows\n",
      "\n",
      "None\n"
     ]
    }
   ],
   "source": [
    "print('--- orders: head ---')\n",
    "print(df_orders.show(5))"
   ]
  },
  {
   "cell_type": "markdown",
   "metadata": {
    "hidden": true
   },
   "source": [
    "### orders statistics"
   ]
  },
  {
   "cell_type": "code",
   "execution_count": 14,
   "metadata": {
    "hidden": true
   },
   "outputs": [
    {
     "name": "stdout",
     "output_type": "stream",
     "text": [
      "--- orders: unique order_id ---\n",
      "num unique: 3421083\n"
     ]
    }
   ],
   "source": [
    "print('--- orders: unique order_id ---')\n",
    "print('num unique:',len(df_orders.select('order_id').distinct().collect()))"
   ]
  },
  {
   "cell_type": "code",
   "execution_count": 15,
   "metadata": {
    "hidden": true
   },
   "outputs": [
    {
     "name": "stdout",
     "output_type": "stream",
     "text": [
      "--- orders: unique user_id ---\n",
      "num unique: 206209\n"
     ]
    }
   ],
   "source": [
    "print('--- orders: unique user_id ---')\n",
    "print('num unique:',len(df_orders.select('user_id').distinct().collect()))"
   ]
  },
  {
   "cell_type": "code",
   "execution_count": 16,
   "metadata": {
    "hidden": true
   },
   "outputs": [
    {
     "name": "stdout",
     "output_type": "stream",
     "text": [
      "--- orders: unique order_number ---\n",
      "num unique: 100\n",
      "unique values: [1, 2, 3, 4, 5, 6, 7, 8, 9, 10, 11, 12, 13, 14, 15, 16, 17, 18, 19, 20, 21, 22, 23, 24, 25, 26, 27, 28, 29, 30, 31, 32, 33, 34, 35, 36, 37, 38, 39, 40, 41, 42, 43, 44, 45, 46, 47, 48, 49, 50, 51, 52, 53, 54, 55, 56, 57, 58, 59, 60, 61, 62, 63, 64, 65, 66, 67, 68, 69, 70, 71, 72, 73, 74, 75, 76, 77, 78, 79, 80, 81, 82, 83, 84, 85, 86, 87, 88, 89, 90, 91, 92, 93, 94, 95, 96, 97, 98, 99, 100]\n"
     ]
    }
   ],
   "source": [
    "print('--- orders: unique order_number ---')\n",
    "print('num unique:',len(df_orders.select('order_number').distinct().collect()))\n",
    "print('unique values:',sorted([int(row['order_number']) for row in df_orders.select('order_number').distinct().collect()]))"
   ]
  },
  {
   "cell_type": "code",
   "execution_count": 17,
   "metadata": {
    "hidden": true
   },
   "outputs": [
    {
     "name": "stdout",
     "output_type": "stream",
     "text": [
      "--- descriptive statistics by user_id latest order ---\n",
      "min latest order: 4\n",
      "mean latest order: 16.590367054784224\n",
      "med latest order: 10.0\n",
      "max latest order: 100\n"
     ]
    }
   ],
   "source": [
    "print('--- descriptive statistics by user_id latest order ---')\n",
    "print('min latest order:',np.min(df_orders.groupBy('user_id').max().select('max(order_number)').collect()))\n",
    "print('mean latest order:',np.mean(df_orders.groupBy('user_id').max().select('max(order_number)').collect()))\n",
    "print('med latest order:',np.median(df_orders.groupBy('user_id').max().select('max(order_number)').collect()))\n",
    "print('max latest order:',np.max(df_orders.groupBy('user_id').max().select('max(order_number)').collect()))"
   ]
  },
  {
   "cell_type": "code",
   "execution_count": 18,
   "metadata": {
    "hidden": true
   },
   "outputs": [
    {
     "name": "stdout",
     "output_type": "stream",
     "text": [
      "--- total number of orders per day of week ---\n",
      "+---------+------+\n",
      "|order_dow| count|\n",
      "+---------+------+\n",
      "|        0|600905|\n",
      "|        1|587478|\n",
      "|        2|467260|\n",
      "|        3|436972|\n",
      "|        4|426339|\n",
      "|        5|453368|\n",
      "|        6|448761|\n",
      "+---------+------+\n",
      "\n"
     ]
    }
   ],
   "source": [
    "print('--- total number of orders per day of week ---')\n",
    "df_orders.groupBy('order_dow').count().select(['order_dow','count']).sort(col('order_dow').asc()).show()"
   ]
  },
  {
   "cell_type": "code",
   "execution_count": 19,
   "metadata": {
    "hidden": true
   },
   "outputs": [
    {
     "name": "stdout",
     "output_type": "stream",
     "text": [
      "--- total number of orders per hour of the day ---\n",
      "+-----------------+------+\n",
      "|order_hour_of_day| count|\n",
      "+-----------------+------+\n",
      "|                0| 22758|\n",
      "|                1| 12398|\n",
      "|                2|  7539|\n",
      "|                3|  5474|\n",
      "|                4|  5527|\n",
      "|                5|  9569|\n",
      "|                6| 30529|\n",
      "|                7| 91868|\n",
      "|                8|178201|\n",
      "|                9|257812|\n",
      "|               10|288418|\n",
      "|               11|284728|\n",
      "|               12|272841|\n",
      "|               13|277999|\n",
      "|               14|283042|\n",
      "|               15|283639|\n",
      "|               16|272553|\n",
      "|               17|228795|\n",
      "|               18|182912|\n",
      "|               19|140569|\n",
      "|               20|104292|\n",
      "|               21| 78109|\n",
      "|               22| 61468|\n",
      "|               23| 40043|\n",
      "+-----------------+------+\n",
      "\n"
     ]
    }
   ],
   "source": [
    "print('--- total number of orders per hour of the day ---')\n",
    "df_orders.groupBy('order_hour_of_day').count().select(['order_hour_of_day','count']).sort(col('order_hour_of_day').asc()).show(30)"
   ]
  },
  {
   "cell_type": "markdown",
   "metadata": {
    "hidden": true
   },
   "source": [
    "### orders summary\n",
    "- There are 3,421,083 unique order_id values.\n",
    "- There are 206,209 unique user_id values.\n",
    "- There are 206,209 unique user_id values.\n",
    "- There are 100 unique order_number values, numbered from 1 to 100.\n",
    "- Users placed between 4 and 100 orders (inclusive)with InstaCart, with a mean of 16.6 orders and a median of 10 orders.\n",
    "- Saturday (day 0) has the greatest number of orders placed, while Wednesday (day 4) has the smallest number of orders placed.\n",
    "- The time period of the day with the greatest number of orders placed is between 10:00 am and 04:00 pm.\n",
    "- The time period of the day with the smallest number of orders placed is before 06:00 am and after 08:00 pm."
   ]
  },
  {
   "cell_type": "markdown",
   "metadata": {},
   "source": [
    "## products"
   ]
  },
  {
   "cell_type": "markdown",
   "metadata": {},
   "source": [
    "### products schema"
   ]
  },
  {
   "cell_type": "code",
   "execution_count": 20,
   "metadata": {},
   "outputs": [
    {
     "name": "stdout",
     "output_type": "stream",
     "text": [
      "--- products: schema ---\n",
      "root\n",
      " |-- product_id: integer (nullable = true)\n",
      " |-- product_name: string (nullable = true)\n",
      " |-- aisle_id: integer (nullable = true)\n",
      " |-- department_id: integer (nullable = true)\n",
      "\n",
      "None\n"
     ]
    }
   ],
   "source": [
    "print('--- products: schema ---')\n",
    "print(df_products.printSchema())"
   ]
  },
  {
   "cell_type": "markdown",
   "metadata": {},
   "source": [
    "### products head"
   ]
  },
  {
   "cell_type": "code",
   "execution_count": 21,
   "metadata": {},
   "outputs": [
    {
     "name": "stdout",
     "output_type": "stream",
     "text": [
      "--- products: head ---\n",
      "+----------+--------------------+--------+-------------+\n",
      "|product_id|        product_name|aisle_id|department_id|\n",
      "+----------+--------------------+--------+-------------+\n",
      "|         1|Chocolate Sandwic...|      61|           19|\n",
      "|         2|    All-Seasons Salt|     104|           13|\n",
      "|         3|Robust Golden Uns...|      94|            7|\n",
      "|         4|Smart Ones Classi...|      38|            1|\n",
      "|         5|Green Chile Anyti...|       5|           13|\n",
      "+----------+--------------------+--------+-------------+\n",
      "only showing top 5 rows\n",
      "\n",
      "None\n"
     ]
    }
   ],
   "source": [
    "print('--- products: head ---')\n",
    "print(df_products.show(5))"
   ]
  },
  {
   "cell_type": "markdown",
   "metadata": {},
   "source": [
    "### products statistics"
   ]
  },
  {
   "cell_type": "code",
   "execution_count": 22,
   "metadata": {},
   "outputs": [
    {
     "name": "stdout",
     "output_type": "stream",
     "text": [
      "--- products: unique product_id ---\n",
      "num unique: 49688\n"
     ]
    }
   ],
   "source": [
    "print('--- products: unique product_id ---')\n",
    "print('num unique:',len(df_products.select('product_id').distinct().collect()))\n",
    "#print('unique values:',sorted([int(row['aisle_id']) for row in df_aisles.select('aisle_id').distinct().collect()]))"
   ]
  },
  {
   "cell_type": "code",
   "execution_count": 23,
   "metadata": {},
   "outputs": [
    {
     "name": "stdout",
     "output_type": "stream",
     "text": [
      "--- products: unique aisle_id ---\n",
      "num unique: 135\n",
      "unique values: [1, 2, 3, 4, 5, 6, 7, 8, 9, 10, 11, 12, 13, 14, 15, 16, 17, 18, 19, 20, 21, 22, 23, 24, 25, 26, 27, 28, 29, 30, 31, 32, 33, 34, 35, 36, 37, 38, 39, 40, 41, 42, 43, 44, 45, 46, 47, 48, 49, 50, 51, 52, 53, 54, 55, 56, 57, 58, 59, 60, 61, 62, 63, 64, 65, 66, 67, 68, 69, 70, 71, 72, 73, 74, 75, 76, 77, 78, 79, 80, 81, 82, 83, 84, 85, 86, 87, 88, 89, 90, 91, 92, 93, 94, 95, 96, 97, 98, 99, 100, 101, 102, 103, 104, 105, 106, 107, 108, 109, 110, 111, 112, 113, 114, 115, 116, 117, 118, 119, 120, 121, 122, 123, 124, 125, 126, 127, 128, 129, 130, 131, 132, 133, 134]\n"
     ]
    }
   ],
   "source": [
    "print('--- products: unique aisle_id ---')\n",
    "print('num unique:',len(df_products.select('aisle_id').distinct().collect()))\n",
    "print('unique values:',sorted([(row['aisle_id']) for row in df_products.where(col('aisle_id').isNotNull()).select('aisle_id').distinct().collect()]))\n",
    "\n",
    "# print including NULL values\n",
    "#print('unique values:',[(row['aisle_id']) for row in df_products.select('aisle_id').distinct().collect()])"
   ]
  },
  {
   "cell_type": "code",
   "execution_count": 24,
   "metadata": {
    "scrolled": false
   },
   "outputs": [
    {
     "name": "stdout",
     "output_type": "stream",
     "text": [
      "+----------+------------+--------+-------------+\n",
      "|product_id|product_name|aisle_id|department_id|\n",
      "+----------+------------+--------+-------------+\n",
      "|      null|        null|    null|         null|\n",
      "+----------+------------+--------+-------------+\n",
      "\n"
     ]
    }
   ],
   "source": [
    "# find row with NULL value for aisle_id\n",
    "df_products.where(col('aisle_id').isNull()).show()"
   ]
  },
  {
   "cell_type": "code",
   "execution_count": 25,
   "metadata": {},
   "outputs": [
    {
     "name": "stdout",
     "output_type": "stream",
     "text": [
      "--- products: unique product_id ---\n",
      "num unique: 49687\n",
      "--- products: unique aisle_id ---\n",
      "num unique: 134\n",
      "unique values: [1, 2, 3, 4, 5, 6, 7, 8, 9, 10, 11, 12, 13, 14, 15, 16, 17, 18, 19, 20, 21, 22, 23, 24, 25, 26, 27, 28, 29, 30, 31, 32, 33, 34, 35, 36, 37, 38, 39, 40, 41, 42, 43, 44, 45, 46, 47, 48, 49, 50, 51, 52, 53, 54, 55, 56, 57, 58, 59, 60, 61, 62, 63, 64, 65, 66, 67, 68, 69, 70, 71, 72, 73, 74, 75, 76, 77, 78, 79, 80, 81, 82, 83, 84, 85, 86, 87, 88, 89, 90, 91, 92, 93, 94, 95, 96, 97, 98, 99, 100, 101, 102, 103, 104, 105, 106, 107, 108, 109, 110, 111, 112, 113, 114, 115, 116, 117, 118, 119, 120, 121, 122, 123, 124, 125, 126, 127, 128, 129, 130, 131, 132, 133, 134]\n"
     ]
    }
   ],
   "source": [
    "# drop row of NULL values\n",
    "df_products = df_products.na.drop()\n",
    "\n",
    "# double check results\n",
    "print('--- products: unique product_id ---')\n",
    "print('num unique:',len(df_products.select('product_id').distinct().collect()))\n",
    "print('--- products: unique aisle_id ---')\n",
    "print('num unique:',len(df_products.select('aisle_id').distinct().collect()))\n",
    "print('unique values:',sorted([int(row['aisle_id']) for row in df_products.select('aisle_id').distinct().collect()]))"
   ]
  },
  {
   "cell_type": "code",
   "execution_count": 26,
   "metadata": {},
   "outputs": [
    {
     "name": "stdout",
     "output_type": "stream",
     "text": [
      "--- aisles: unique department_id ---\n",
      "num unique: 21\n",
      "unique values: [1, 2, 3, 4, 5, 6, 7, 8, 9, 10, 11, 12, 13, 14, 15, 16, 17, 18, 19, 20, 21]\n"
     ]
    }
   ],
   "source": [
    "print('--- aisles: unique department_id ---')\n",
    "print('num unique:',len(df_products.select('department_id').distinct().collect()))\n",
    "print('unique values:',sorted([int(row['department_id']) for row in df_products.select('department_id').distinct().collect()]))\n",
    "#print('unique values:',sorted([(row['department_id']) for row in df_products.where(col('department_id').isNotNull()).select('department_id').distinct().collect()]))"
   ]
  },
  {
   "cell_type": "markdown",
   "metadata": {},
   "source": [
    "### products summary\n",
    "- There are 49,687 unique product_id values (after dropping one NULL row).\n",
    "- There are 134 unique aisle_id values, numbered from 1 to 134 (after dropping one NULL row).\n",
    "- There are 21 unique department_id values, numbered from 1 to 21 (after dropping one NULL row)."
   ]
  },
  {
   "cell_type": "markdown",
   "metadata": {},
   "source": [
    "## order_products"
   ]
  },
  {
   "cell_type": "markdown",
   "metadata": {},
   "source": [
    "### order_products schema"
   ]
  },
  {
   "cell_type": "code",
   "execution_count": 27,
   "metadata": {},
   "outputs": [
    {
     "name": "stdout",
     "output_type": "stream",
     "text": [
      "--- order_products: schema ---\n",
      "root\n",
      " |-- order_id: integer (nullable = true)\n",
      " |-- product_id: integer (nullable = true)\n",
      " |-- add_to_cart_order: integer (nullable = true)\n",
      " |-- reordered: integer (nullable = true)\n",
      "\n",
      "None\n"
     ]
    }
   ],
   "source": [
    "print('--- order_products: schema ---')\n",
    "print(df_order_products.printSchema())"
   ]
  },
  {
   "cell_type": "markdown",
   "metadata": {},
   "source": [
    "### order_products head"
   ]
  },
  {
   "cell_type": "code",
   "execution_count": 28,
   "metadata": {},
   "outputs": [
    {
     "name": "stdout",
     "output_type": "stream",
     "text": [
      "--- order_products: head ---\n",
      "+--------+----------+-----------------+---------+\n",
      "|order_id|product_id|add_to_cart_order|reordered|\n",
      "+--------+----------+-----------------+---------+\n",
      "|       2|     33120|                1|        1|\n",
      "|       2|     28985|                2|        1|\n",
      "|       2|      9327|                3|        0|\n",
      "|       2|     45918|                4|        1|\n",
      "|       2|     30035|                5|        0|\n",
      "+--------+----------+-----------------+---------+\n",
      "only showing top 5 rows\n",
      "\n",
      "None\n"
     ]
    }
   ],
   "source": [
    "print('--- order_products: head ---')\n",
    "print(df_order_products.show(5))"
   ]
  },
  {
   "cell_type": "markdown",
   "metadata": {},
   "source": [
    "### order_products statistics"
   ]
  },
  {
   "cell_type": "code",
   "execution_count": 29,
   "metadata": {},
   "outputs": [
    {
     "name": "stdout",
     "output_type": "stream",
     "text": [
      "--- order_products: unique order_id ---\n",
      "num unique: 3214874\n"
     ]
    }
   ],
   "source": [
    "print('--- order_products: unique order_id ---')\n",
    "print('num unique:',len(df_order_products.select('order_id').distinct().collect()))"
   ]
  },
  {
   "cell_type": "code",
   "execution_count": 30,
   "metadata": {},
   "outputs": [
    {
     "name": "stdout",
     "output_type": "stream",
     "text": [
      "--- order_products: unique product_id ---\n",
      "num unique: 49677\n"
     ]
    }
   ],
   "source": [
    "print('--- order_products: unique product_id ---')\n",
    "print('num unique:',len(df_order_products.select('product_id').distinct().collect()))"
   ]
  },
  {
   "cell_type": "code",
   "execution_count": 31,
   "metadata": {},
   "outputs": [
    {
     "name": "stdout",
     "output_type": "stream",
     "text": [
      "--- descriptive statistics by number of items in cart ---\n",
      "min num items: 1\n",
      "mean num items: 10.088883421247614\n",
      "med num items: 8.0\n",
      "max num items: 145\n"
     ]
    }
   ],
   "source": [
    "print('--- descriptive statistics by number of items in cart ---')\n",
    "print('min num items:',np.min(df_order_products.groupBy('order_id').max().select('max(add_to_cart_order)').collect()))\n",
    "print('mean num items:',np.mean(df_order_products.groupBy('order_id').max().select('max(add_to_cart_order)').collect()))\n",
    "print('med num items:',np.median(df_order_products.groupBy('order_id').max().select('max(add_to_cart_order)').collect()))\n",
    "print('max num items:',np.max(df_order_products.groupBy('order_id').max().select('max(add_to_cart_order)').collect()))"
   ]
  },
  {
   "cell_type": "code",
   "execution_count": 32,
   "metadata": {},
   "outputs": [
    {
     "name": "stdout",
     "output_type": "stream",
     "text": [
      "--- descriptive statistics by number of items reordered ---\n",
      "min latest order: 0\n",
      "mean latest order: 5.949388996271704\n",
      "med latest order: 4.0\n",
      "max latest order: 130\n"
     ]
    }
   ],
   "source": [
    "print('--- descriptive statistics by number of items reordered ---')\n",
    "print('min latest order:',np.min(df_order_products.groupBy('order_id').sum().select('sum(reordered)').collect()))\n",
    "print('mean latest order:',np.mean(df_order_products.groupBy('order_id').sum().select('sum(reordered)').collect()))\n",
    "print('med latest order:',np.median(df_order_products.groupBy('order_id').sum().select('sum(reordered)').collect()))\n",
    "print('max latest order:',np.max(df_order_products.groupBy('order_id').sum().select('sum(reordered)').collect()))"
   ]
  },
  {
   "cell_type": "markdown",
   "metadata": {},
   "source": [
    "### order_products summary\n",
    "- There are 3,214,874 unique order_id values (there were 3,421,083 in orders.csv)\n",
    "- There are 49,677 unique product_id values (there were 49,687 in products.csv)\n",
    "- Users ordered between 1 and 130 items (inclusive) across all orders, with a mean of 10.1 items and a median of 8 items.\n",
    "- Users re-ordered between 0 and 130 items (inclusive) across all orders, with a mean of 5.9 items and a median of 4 items."
   ]
  },
  {
   "cell_type": "markdown",
   "metadata": {},
   "source": [
    "## order_products2"
   ]
  },
  {
   "cell_type": "markdown",
   "metadata": {},
   "source": [
    "### order_products2 schema"
   ]
  },
  {
   "cell_type": "code",
   "execution_count": 33,
   "metadata": {},
   "outputs": [
    {
     "name": "stdout",
     "output_type": "stream",
     "text": [
      "--- order_products: schema ---\n",
      "root\n",
      " |-- order_id: integer (nullable = true)\n",
      " |-- product_id: integer (nullable = true)\n",
      " |-- add_to_cart_order: integer (nullable = true)\n",
      " |-- reordered: integer (nullable = true)\n",
      "\n",
      "None\n"
     ]
    }
   ],
   "source": [
    "print('--- order_products: schema ---')\n",
    "print(df_order_products2.printSchema())"
   ]
  },
  {
   "cell_type": "markdown",
   "metadata": {},
   "source": [
    "### order_products2 head"
   ]
  },
  {
   "cell_type": "code",
   "execution_count": 34,
   "metadata": {},
   "outputs": [
    {
     "name": "stdout",
     "output_type": "stream",
     "text": [
      "--- order_products: head ---\n",
      "+--------+----------+-----------------+---------+\n",
      "|order_id|product_id|add_to_cart_order|reordered|\n",
      "+--------+----------+-----------------+---------+\n",
      "|       1|     49302|                1|        1|\n",
      "|       1|     11109|                2|        1|\n",
      "|       1|     10246|                3|        0|\n",
      "|       1|     49683|                4|        0|\n",
      "|       1|     43633|                5|        1|\n",
      "+--------+----------+-----------------+---------+\n",
      "only showing top 5 rows\n",
      "\n",
      "None\n"
     ]
    }
   ],
   "source": [
    "print('--- order_products: head ---')\n",
    "print(df_order_products2.show(5))"
   ]
  },
  {
   "cell_type": "markdown",
   "metadata": {},
   "source": [
    "### order_products2 statistics"
   ]
  },
  {
   "cell_type": "code",
   "execution_count": 35,
   "metadata": {},
   "outputs": [
    {
     "name": "stdout",
     "output_type": "stream",
     "text": [
      "--- order_products: unique order_id ---\n",
      "num unique: 131209\n"
     ]
    }
   ],
   "source": [
    "print('--- order_products: unique order_id ---')\n",
    "print('num unique:',len(df_order_products2.select('order_id').distinct().collect()))"
   ]
  },
  {
   "cell_type": "code",
   "execution_count": 36,
   "metadata": {},
   "outputs": [
    {
     "name": "stdout",
     "output_type": "stream",
     "text": [
      "--- order_products: unique product_id ---\n",
      "num unique: 39123\n"
     ]
    }
   ],
   "source": [
    "print('--- order_products: unique product_id ---')\n",
    "print('num unique:',len(df_order_products2.select('product_id').distinct().collect()))"
   ]
  },
  {
   "cell_type": "code",
   "execution_count": 37,
   "metadata": {},
   "outputs": [
    {
     "name": "stdout",
     "output_type": "stream",
     "text": [
      "--- descriptive statistics by number of items in cart ---\n",
      "min num items: 1\n",
      "mean num items: 10.552759338155157\n",
      "med num items: 9.0\n",
      "max num items: 80\n"
     ]
    }
   ],
   "source": [
    "print('--- descriptive statistics by number of items in cart ---')\n",
    "print('min num items:',np.min(df_order_products2.groupBy('order_id').max().select('max(add_to_cart_order)').collect()))\n",
    "print('mean num items:',np.mean(df_order_products2.groupBy('order_id').max().select('max(add_to_cart_order)').collect()))\n",
    "print('med num items:',np.median(df_order_products2.groupBy('order_id').max().select('max(add_to_cart_order)').collect()))\n",
    "print('max num items:',np.max(df_order_products2.groupBy('order_id').max().select('max(add_to_cart_order)').collect()))"
   ]
  },
  {
   "cell_type": "code",
   "execution_count": 38,
   "metadata": {},
   "outputs": [
    {
     "name": "stdout",
     "output_type": "stream",
     "text": [
      "--- descriptive statistics by number of items reordered ---\n",
      "min latest order: 0\n",
      "mean latest order: 6.316822778925226\n",
      "med latest order: 5.0\n",
      "max latest order: 71\n"
     ]
    }
   ],
   "source": [
    "print('--- descriptive statistics by number of items reordered ---')\n",
    "print('min latest order:',np.min(df_order_products2.groupBy('order_id').sum().select('sum(reordered)').collect()))\n",
    "print('mean latest order:',np.mean(df_order_products2.groupBy('order_id').sum().select('sum(reordered)').collect()))\n",
    "print('med latest order:',np.median(df_order_products2.groupBy('order_id').sum().select('sum(reordered)').collect()))\n",
    "print('max latest order:',np.max(df_order_products2.groupBy('order_id').sum().select('sum(reordered)').collect()))"
   ]
  },
  {
   "cell_type": "markdown",
   "metadata": {},
   "source": [
    "### order_products2 summary\n",
    "- There are 131,209  unique order_id values (there were 3,214,874 in order_products__prior.csv and 3,421,083 in orders.csv)\n",
    "- There are 39,123 unique product_id values (there were 49,677 in order_products__prior.csv and 49,687 in products.csv)\n",
    "- Users ordered between 1 and 80 items (inclusive) across all orders, with a mean of 10.6 items and a median of 9 items.\n",
    "- Users re-ordered between 0 and 71 items (inclusive) across all orders, with a mean of 6.3 items and a median of 5 items."
   ]
  },
  {
   "cell_type": "markdown",
   "metadata": {},
   "source": [
    "---\n",
    "# DATA TRANSFORMATION\n",
    "---"
   ]
  },
  {
   "cell_type": "markdown",
   "metadata": {},
   "source": [
    "## merge aisle | department | products"
   ]
  },
  {
   "cell_type": "markdown",
   "metadata": {},
   "source": [
    "### join code"
   ]
  },
  {
   "cell_type": "code",
   "execution_count": 39,
   "metadata": {
    "scrolled": false
   },
   "outputs": [
    {
     "name": "stdout",
     "output_type": "stream",
     "text": [
      "--- cell execution complete ---\n"
     ]
    }
   ],
   "source": [
    "# create temp tables\n",
    "df_products.registerTempTable('prod')\n",
    "df_aisles.registerTempTable('aisles')\n",
    "\n",
    "# define sql query\n",
    "sqlQuery = '''\n",
    "SELECT prod.*, aisle\n",
    "FROM prod LEFT JOIN aisles\n",
    "ON prod.aisle_id = aisles.aisle_id\n",
    "'''\n",
    "\n",
    "df_tmp1 = sql.sql(sqlQuery)\n",
    "\n",
    "# create temp tables\n",
    "df_tmp1.registerTempTable('prod_aisle')\n",
    "df_departments.registerTempTable('depts')\n",
    "\n",
    "# define sql query\n",
    "sqlQuery = '''\n",
    "SELECT prod_aisle.*, department\n",
    "FROM prod_aisle LEFT JOIN depts\n",
    "ON prod_aisle.department_id = depts.department_id\n",
    "'''\n",
    "\n",
    "df_store_info = sql.sql(sqlQuery)\n",
    "\n",
    "print('--- cell execution complete ---')"
   ]
  },
  {
   "cell_type": "code",
   "execution_count": 40,
   "metadata": {},
   "outputs": [
    {
     "name": "stdout",
     "output_type": "stream",
     "text": [
      "--- cell execution complete ---\n"
     ]
    }
   ],
   "source": [
    "# rearrange columns\n",
    "df_store_info = df_store_info.select('product_id','product_name','aisle_id','aisle','department_id','department')\n",
    "\n",
    "print('--- cell execution complete ---')"
   ]
  },
  {
   "cell_type": "markdown",
   "metadata": {},
   "source": [
    "### join result head"
   ]
  },
  {
   "cell_type": "code",
   "execution_count": 41,
   "metadata": {},
   "outputs": [
    {
     "name": "stdout",
     "output_type": "stream",
     "text": [
      "+----------+--------------------+--------+--------------------+-------------+----------+\n",
      "|product_id|        product_name|aisle_id|               aisle|department_id|department|\n",
      "+----------+--------------------+--------+--------------------+-------------+----------+\n",
      "|         1|Chocolate Sandwic...|      61|       cookies cakes|           19|    snacks|\n",
      "|         2|    All-Seasons Salt|     104|   spices seasonings|           13|    pantry|\n",
      "|         3|Robust Golden Uns...|      94|                 tea|            7| beverages|\n",
      "|         4|Smart Ones Classi...|      38|        frozen meals|            1|    frozen|\n",
      "|         5|Green Chile Anyti...|       5|marinades meat pr...|           13|    pantry|\n",
      "+----------+--------------------+--------+--------------------+-------------+----------+\n",
      "only showing top 5 rows\n",
      "\n"
     ]
    }
   ],
   "source": [
    "df_store_info.show(5)"
   ]
  },
  {
   "cell_type": "markdown",
   "metadata": {},
   "source": [
    "### write to file"
   ]
  },
  {
   "cell_type": "code",
   "execution_count": 42,
   "metadata": {},
   "outputs": [],
   "source": [
    "if WRITE_TO_FILE:\n",
    "    df_store_info.write.parquet('instacart_store_info.parquet')\n",
    "else:\n",
    "    print('skipping write to file: df_store_info.parquet')"
   ]
  },
  {
   "cell_type": "markdown",
   "metadata": {},
   "source": [
    "## merge order_products and order_products2"
   ]
  },
  {
   "cell_type": "markdown",
   "metadata": {},
   "source": [
    "### union code"
   ]
  },
  {
   "cell_type": "code",
   "execution_count": 43,
   "metadata": {},
   "outputs": [
    {
     "name": "stdout",
     "output_type": "stream",
     "text": [
      "--- df_order_products shape ---\n",
      "32434489 4 \n",
      "\n",
      "--- df_order_products2 shape ---\n",
      "1384617 4 \n",
      "\n",
      "--- df_order_products_union shape ---\n",
      "33819106 4 \n",
      "\n",
      "--- sanity check row count ---\n",
      "True\n"
     ]
    }
   ],
   "source": [
    "# print shape of individual dataframes\n",
    "print('--- df_order_products shape ---')\n",
    "print(df_order_products.count(),len(df_order_products.columns),'\\n')\n",
    "print('--- df_order_products2 shape ---')\n",
    "print(df_order_products2.count(),len(df_order_products2.columns),'\\n')\n",
    "\n",
    "# stack dataframes using union method\n",
    "df_order_products_union = df_order_products.union(df_order_products2)\n",
    "\n",
    "# print shape of resulting dataframe\n",
    "print('--- df_order_products_union shape ---')\n",
    "print(df_order_products_union.count(),len(df_order_products_union.columns),'\\n')\n",
    "\n",
    "# sanity check\n",
    "print('--- sanity check row count ---')\n",
    "print(df_order_products.count() + df_order_products2.count() == df_order_products_union.count())\n",
    "\n"
   ]
  },
  {
   "cell_type": "markdown",
   "metadata": {},
   "source": [
    "### union result head"
   ]
  },
  {
   "cell_type": "code",
   "execution_count": 44,
   "metadata": {},
   "outputs": [
    {
     "name": "stdout",
     "output_type": "stream",
     "text": [
      "+--------+----------+-----------------+---------+\n",
      "|order_id|product_id|add_to_cart_order|reordered|\n",
      "+--------+----------+-----------------+---------+\n",
      "|       2|     33120|                1|        1|\n",
      "|       2|     28985|                2|        1|\n",
      "|       2|      9327|                3|        0|\n",
      "|       2|     45918|                4|        1|\n",
      "|       2|     30035|                5|        0|\n",
      "+--------+----------+-----------------+---------+\n",
      "only showing top 5 rows\n",
      "\n"
     ]
    }
   ],
   "source": [
    "df_order_products_union.show(5)"
   ]
  },
  {
   "cell_type": "markdown",
   "metadata": {},
   "source": [
    "## merge department_id into order_products_union"
   ]
  },
  {
   "cell_type": "markdown",
   "metadata": {},
   "source": [
    "### join code"
   ]
  },
  {
   "cell_type": "code",
   "execution_count": 45,
   "metadata": {
    "scrolled": false
   },
   "outputs": [
    {
     "name": "stdout",
     "output_type": "stream",
     "text": [
      "--- cell execution complete ---\n"
     ]
    }
   ],
   "source": [
    "# create temp tables\n",
    "df_order_products_union.registerTempTable('opu')\n",
    "df_products.registerTempTable('prods')\n",
    "\n",
    "# define sql query\n",
    "sqlQuery = '''\n",
    "SELECT order_id, opu.product_id, department_id, add_to_cart_order, reordered\n",
    "FROM opu LEFT JOIN prods\n",
    "ON opu.product_id = prods.product_id\n",
    "'''\n",
    "\n",
    "# execute sql query and assign to new dataframe\n",
    "df_order_products_deptid = sql.sql(sqlQuery)\n",
    "\n",
    "print('--- cell execution complete ---')"
   ]
  },
  {
   "cell_type": "markdown",
   "metadata": {},
   "source": [
    "### join result head"
   ]
  },
  {
   "cell_type": "code",
   "execution_count": 46,
   "metadata": {},
   "outputs": [
    {
     "name": "stdout",
     "output_type": "stream",
     "text": [
      "+--------+----------+-------------+-----------------+---------+\n",
      "|order_id|product_id|department_id|add_to_cart_order|reordered|\n",
      "+--------+----------+-------------+-----------------+---------+\n",
      "|       2|     33120|           16|                1|        1|\n",
      "|       2|     28985|            4|                2|        1|\n",
      "|       2|      9327|           13|                3|        0|\n",
      "|       2|     45918|           13|                4|        1|\n",
      "|       2|     30035|           13|                5|        0|\n",
      "+--------+----------+-------------+-----------------+---------+\n",
      "only showing top 5 rows\n",
      "\n"
     ]
    }
   ],
   "source": [
    "df_order_products_deptid.show(5)"
   ]
  },
  {
   "cell_type": "markdown",
   "metadata": {},
   "source": [
    "## merge department and product info into order_products_deptid"
   ]
  },
  {
   "cell_type": "markdown",
   "metadata": {},
   "source": [
    "### join code"
   ]
  },
  {
   "cell_type": "code",
   "execution_count": 47,
   "metadata": {},
   "outputs": [
    {
     "name": "stdout",
     "output_type": "stream",
     "text": [
      "--- cell execution complete ---\n"
     ]
    }
   ],
   "source": [
    "# create temp tables\n",
    "df_order_products_deptid.registerTempTable('opd')\n",
    "df_products.registerTempTable('prods')\n",
    "\n",
    "# define sql query\n",
    "sqlQuery = '''\n",
    "SELECT order_id, opd.product_id, product_name, opd.department_id, add_to_cart_order, reordered\n",
    "FROM opd LEFT JOIN prods\n",
    "ON opd.product_id = prods.product_id\n",
    "'''\n",
    "\n",
    "# execute sql query and assign to new dataframe\n",
    "df_tmp = sql.sql(sqlQuery)\n",
    "\n",
    "# create temp tables\n",
    "df_tmp.registerTempTable('tmp')\n",
    "df_departments.registerTempTable('depts')\n",
    "\n",
    "# define sql query\n",
    "sqlQuery = '''\n",
    "SELECT order_id, product_id, product_name, tmp.department_id, department, add_to_cart_order, reordered\n",
    "FROM tmp LEFT JOIN depts\n",
    "ON tmp.department_id = depts.department_id\n",
    "'''\n",
    "\n",
    "df_order_info = sql.sql(sqlQuery)\n",
    "\n",
    "print('--- cell execution complete ---')"
   ]
  },
  {
   "cell_type": "markdown",
   "metadata": {},
   "source": [
    "### join results head"
   ]
  },
  {
   "cell_type": "code",
   "execution_count": 48,
   "metadata": {},
   "outputs": [
    {
     "name": "stdout",
     "output_type": "stream",
     "text": [
      "+--------+----------+--------------------+-------------+----------+-----------------+---------+\n",
      "|order_id|product_id|        product_name|department_id|department|add_to_cart_order|reordered|\n",
      "+--------+----------+--------------------+-------------+----------+-----------------+---------+\n",
      "|       2|     33120|  Organic Egg Whites|           16|dairy eggs|                1|        1|\n",
      "|       2|     28985|Michigan Organic ...|            4|   produce|                2|        1|\n",
      "|       2|      9327|       Garlic Powder|           13|    pantry|                3|        0|\n",
      "|       2|     45918|      Coconut Butter|           13|    pantry|                4|        1|\n",
      "|       2|     30035|   Natural Sweetener|           13|    pantry|                5|        0|\n",
      "+--------+----------+--------------------+-------------+----------+-----------------+---------+\n",
      "only showing top 5 rows\n",
      "\n"
     ]
    }
   ],
   "source": [
    "df_order_info.show(5)"
   ]
  },
  {
   "cell_type": "markdown",
   "metadata": {},
   "source": [
    "### write to file"
   ]
  },
  {
   "cell_type": "code",
   "execution_count": 60,
   "metadata": {},
   "outputs": [],
   "source": [
    "if WRITE_TO_FILE:\n",
    "    df_order_info.write.parquet('instacart_order_info.parquet')\n",
    "else:\n",
    "    print('skipping write to file: df_order_info.parquet')"
   ]
  },
  {
   "cell_type": "markdown",
   "metadata": {},
   "source": [
    "## pivot order_products_deptid"
   ]
  },
  {
   "cell_type": "markdown",
   "metadata": {},
   "source": [
    "### pivot code"
   ]
  },
  {
   "cell_type": "code",
   "execution_count": 50,
   "metadata": {},
   "outputs": [
    {
     "name": "stdout",
     "output_type": "stream",
     "text": [
      "--- rename_pivot_cols() function defined ---\n"
     ]
    }
   ],
   "source": [
    "# function to rename pivoted columns, adds a prefix\n",
    "def rename_pivot_cols(columns, prefix='prefix'):\n",
    "    return [f'{prefix}' + c for c in columns]\n",
    "\n",
    "print('--- rename_pivot_cols() function defined ---')"
   ]
  },
  {
   "cell_type": "code",
   "execution_count": 51,
   "metadata": {},
   "outputs": [
    {
     "name": "stdout",
     "output_type": "stream",
     "text": [
      "--- cell execution complete ---\n"
     ]
    }
   ],
   "source": [
    "# group by order_id and pivot on department_id, assign to tmp1\n",
    "df_tmp1 = df_order_products_deptid.groupBy('order_id').pivot('department_id').count()\n",
    "\n",
    "# group by order_id and pivot on reordered, assign to tmp2\n",
    "df_tmp2 = df_order_products_deptid.groupBy('order_id').pivot('reordered').count()\n",
    "\n",
    "if DEBUG:\n",
    "    # print results\n",
    "    print('--- pivot results: pivot on department_id ---')\n",
    "    df_tmp1.show(5)\n",
    "    print('--- pivot results: pivot on reordered ---')\n",
    "    df_tmp2.show(5)\n",
    "else:\n",
    "    print('--- cell execution complete ---')"
   ]
  },
  {
   "cell_type": "code",
   "execution_count": 52,
   "metadata": {},
   "outputs": [
    {
     "name": "stdout",
     "output_type": "stream",
     "text": [
      "--- cell execution skipped ---\n"
     ]
    }
   ],
   "source": [
    "if DEBUG:\n",
    "    # sanity check the pivot results above\n",
    "    df_order_products_deptid.filter(df_order_products_deptid.order_id == 1645).show()\n",
    "    df_order_products_deptid.filter(df_order_products_deptid.order_id == 19984).show()\n",
    "    df_order_products_deptid.filter(df_order_products_deptid.order_id == 210661).show()\n",
    "else:\n",
    "    print('--- cell execution skipped ---')"
   ]
  },
  {
   "cell_type": "code",
   "execution_count": 53,
   "metadata": {},
   "outputs": [
    {
     "name": "stdout",
     "output_type": "stream",
     "text": [
      "--- tmp1 renamed columns ---\n",
      "['order_id', 'null', 'd1', 'd2', 'd3', 'd4', 'd5', 'd6', 'd7', 'd8', 'd9', 'd10', 'd11', 'd12', 'd13', 'd14', 'd15', 'd16', 'd17', 'd18', 'd19', 'd20', 'd21']\n",
      "--- tmp2 renamed columns\n",
      "['order_id', 'reord0', 'reord1']\n"
     ]
    }
   ],
   "source": [
    "# rename pivoted columns for tmp1 dataframe\n",
    "new_names = ['order_id','null'] + rename_pivot_cols(df_tmp1.columns[2:], 'd')\n",
    "df_tmp1 = df_tmp1.toDF(*new_names)\n",
    "\n",
    "# rename pivoted columns for tmp2 dataframe\n",
    "new_names = ['order_id'] + rename_pivot_cols(['0','1'], 'reord')\n",
    "df_tmp2 = df_tmp2.toDF(*new_names)\n",
    "\n",
    "# print results\n",
    "print('--- tmp1 renamed columns ---')\n",
    "print(df_tmp1.columns)\n",
    "print('--- tmp2 renamed columns')\n",
    "print(df_tmp2.columns)"
   ]
  },
  {
   "cell_type": "code",
   "execution_count": 54,
   "metadata": {
    "scrolled": true
   },
   "outputs": [
    {
     "name": "stdout",
     "output_type": "stream",
     "text": [
      "--- cell execution complete ---\n"
     ]
    }
   ],
   "source": [
    "# create temp tables\n",
    "df_tmp1.registerTempTable('tmp1')\n",
    "df_tmp2.registerTempTable('tmp2')\n",
    "\n",
    "# define sql query\n",
    "sqlQuery = '''\n",
    "SELECT tmp1.*, tmp2.reord1\n",
    "FROM tmp1 LEFT JOIN tmp2\n",
    "ON tmp1.order_id = tmp2.order_id\n",
    "'''\n",
    "\n",
    "# execute sql query and assign to new dataframe\n",
    "df_order_products_pivot = sql.sql(sqlQuery)\n",
    "\n",
    "print('--- cell execution complete ---')"
   ]
  },
  {
   "cell_type": "markdown",
   "metadata": {},
   "source": [
    "### pivot result head"
   ]
  },
  {
   "cell_type": "code",
   "execution_count": 55,
   "metadata": {},
   "outputs": [
    {
     "name": "stdout",
     "output_type": "stream",
     "text": [
      "+--------+----+----+----+----+----+----+----+----+----+----+----+----+----+----+----+----+----+----+----+----+----+----+------+\n",
      "|order_id|null|  d1|  d2|  d3|  d4|  d5|  d6|  d7|  d8|  d9| d10| d11| d12| d13| d14| d15| d16| d17| d18| d19| d20| d21|reord1|\n",
      "+--------+----+----+----+----+----+----+----+----+----+----+----+----+----+----+----+----+----+----+----+----+----+----+------+\n",
      "|     148|null|   2|null|null|   4|null|null|null|null|   1|null|   1|null|   1|null|null|   4|null|null|   1|null|null|    10|\n",
      "|     463|null|null|null|null|null|null|null|null|null|null|null|null|null|null|null|null|null|   1|null|null|null|null|  null|\n",
      "|     471|null|null|null|null|   1|null|null|null|null|null|null|null|   1|   2|null|null|   3|null|null|   1|null|null|     1|\n",
      "|     496|null|null|null|null|   1|null|null|null|null|null|null|null|   1|   1|null|null|null|null|null|null|null|null|     1|\n",
      "|     833|null|null|null|null|   1|null|null|   2|null|null|null|   1|null|   1|null|null|   1|null|null|null|null|null|     3|\n",
      "+--------+----+----+----+----+----+----+----+----+----+----+----+----+----+----+----+----+----+----+----+----+----+----+------+\n",
      "only showing top 5 rows\n",
      "\n"
     ]
    }
   ],
   "source": [
    "df_order_products_pivot.show(5)"
   ]
  },
  {
   "cell_type": "markdown",
   "metadata": {},
   "source": [
    "## merge order_products_pivot and orders"
   ]
  },
  {
   "cell_type": "markdown",
   "metadata": {},
   "source": [
    "### join code"
   ]
  },
  {
   "cell_type": "code",
   "execution_count": 56,
   "metadata": {
    "scrolled": false
   },
   "outputs": [
    {
     "name": "stdout",
     "output_type": "stream",
     "text": [
      "--- cell execution complete ---\n"
     ]
    }
   ],
   "source": [
    "# create temp tables\n",
    "df_order_products_pivot.registerTempTable('opp')\n",
    "df_orders.registerTempTable('orders')\n",
    "\n",
    "# define sql query\n",
    "sqlQuery = '''\n",
    "SELECT user_id, eval_set, order_number, order_dow, order_hour_of_day AS order_hour, opp.*, days_since_prior_order AS days_elapsed\n",
    "FROM orders LEFT JOIN opp\n",
    "ON orders.order_id = opp.order_id\n",
    "'''\n",
    "\n",
    "# execute sql query and assign to new dataframe\n",
    "df_final = sql.sql(sqlQuery)\n",
    "\n",
    "print('--- cell execution complete ---')"
   ]
  },
  {
   "cell_type": "code",
   "execution_count": 57,
   "metadata": {},
   "outputs": [
    {
     "name": "stdout",
     "output_type": "stream",
     "text": [
      "--- cell execution complete ---\n"
     ]
    }
   ],
   "source": [
    "# drop null column\n",
    "df_final = df_final.drop('null')\n",
    "\n",
    "# replace nulls with 0\n",
    "df_final = df_final.na.fill(0)\n",
    "\n",
    "# add sum of items\n",
    "df_final = df_final.withColumn('num_items', sum(df_final[col] for col in df_final.columns[6:27]))\n",
    "\n",
    "# rearrange columns\n",
    "df_final = df_final.select(['order_id','user_id','eval_set','order_number','order_dow','order_hour','d1','d2','d3','d4','d5','d6','d7','d8','d9','d10','d11', \n",
    "                 'd12','d13','d14','d15','d16','d17','d18','d19','d20','d21','days_elapsed','reord1','num_items'])\n",
    "\n",
    "print('--- cell execution complete ---')"
   ]
  },
  {
   "cell_type": "markdown",
   "metadata": {},
   "source": [
    "### join result head"
   ]
  },
  {
   "cell_type": "code",
   "execution_count": 58,
   "metadata": {},
   "outputs": [
    {
     "name": "stdout",
     "output_type": "stream",
     "text": [
      "root\n",
      " |-- order_id: integer (nullable = true)\n",
      " |-- user_id: integer (nullable = true)\n",
      " |-- eval_set: string (nullable = true)\n",
      " |-- order_number: integer (nullable = true)\n",
      " |-- order_dow: integer (nullable = true)\n",
      " |-- order_hour: integer (nullable = true)\n",
      " |-- d1: long (nullable = true)\n",
      " |-- d2: long (nullable = true)\n",
      " |-- d3: long (nullable = true)\n",
      " |-- d4: long (nullable = true)\n",
      " |-- d5: long (nullable = true)\n",
      " |-- d6: long (nullable = true)\n",
      " |-- d7: long (nullable = true)\n",
      " |-- d8: long (nullable = true)\n",
      " |-- d9: long (nullable = true)\n",
      " |-- d10: long (nullable = true)\n",
      " |-- d11: long (nullable = true)\n",
      " |-- d12: long (nullable = true)\n",
      " |-- d13: long (nullable = true)\n",
      " |-- d14: long (nullable = true)\n",
      " |-- d15: long (nullable = true)\n",
      " |-- d16: long (nullable = true)\n",
      " |-- d17: long (nullable = true)\n",
      " |-- d18: long (nullable = true)\n",
      " |-- d19: long (nullable = true)\n",
      " |-- d20: long (nullable = true)\n",
      " |-- d21: long (nullable = true)\n",
      " |-- days_elapsed: float (nullable = false)\n",
      " |-- reord1: long (nullable = true)\n",
      " |-- num_items: long (nullable = true)\n",
      "\n",
      "None\n",
      "+--------+-------+--------+------------+---------+----------+---+---+---+---+---+---+---+---+---+---+---+---+---+---+---+---+---+---+---+---+---+------------+------+---------+\n",
      "|order_id|user_id|eval_set|order_number|order_dow|order_hour| d1| d2| d3| d4| d5| d6| d7| d8| d9|d10|d11|d12|d13|d14|d15|d16|d17|d18|d19|d20|d21|days_elapsed|reord1|num_items|\n",
      "+--------+-------+--------+------------+---------+----------+---+---+---+---+---+---+---+---+---+---+---+---+---+---+---+---+---+---+---+---+---+------------+------+---------+\n",
      "|     148|  41523|   prior|          27|        2|        17|  2|  0|  0|  4|  0|  0|  0|  0|  1|  0|  1|  0|  1|  0|  0|  4|  0|  0|  1|  0|  0|         5.0|    10|       14|\n",
      "|     463|  92093|   prior|          18|        1|        17|  0|  0|  0|  0|  0|  0|  0|  0|  0|  0|  0|  0|  0|  0|  0|  0|  1|  0|  0|  0|  0|         5.0|     0|        1|\n",
      "|     471|  52745|   prior|           5|        6|        18|  0|  0|  0|  1|  0|  0|  0|  0|  0|  0|  0|  1|  2|  0|  0|  3|  0|  0|  1|  0|  0|        30.0|     1|        8|\n",
      "|     496|   7580|   prior|           3|        5|        12|  0|  0|  0|  1|  0|  0|  0|  0|  0|  0|  0|  1|  1|  0|  0|  0|  0|  0|  0|  0|  0|         4.0|     1|        3|\n",
      "|     833| 183333|   prior|           3|        6|        15|  0|  0|  0|  1|  0|  0|  2|  0|  0|  0|  1|  0|  1|  0|  0|  1|  0|  0|  0|  0|  0|         4.0|     3|        6|\n",
      "+--------+-------+--------+------------+---------+----------+---+---+---+---+---+---+---+---+---+---+---+---+---+---+---+---+---+---+---+---+---+------------+------+---------+\n",
      "only showing top 5 rows\n",
      "\n"
     ]
    }
   ],
   "source": [
    "print(df_final.printSchema())\n",
    "df_final.show(5)"
   ]
  },
  {
   "cell_type": "markdown",
   "metadata": {},
   "source": [
    "### write to file"
   ]
  },
  {
   "cell_type": "code",
   "execution_count": 61,
   "metadata": {},
   "outputs": [],
   "source": [
    "if WRITE_TO_FILE:\n",
    "    df_final.write.parquet('instacart_order_pivot.parquet')\n",
    "else:\n",
    "    print('skipping write to file: df_order_pivot.parquet')"
   ]
  },
  {
   "cell_type": "code",
   "execution_count": null,
   "metadata": {},
   "outputs": [],
   "source": []
  },
  {
   "cell_type": "code",
   "execution_count": null,
   "metadata": {},
   "outputs": [],
   "source": [
    "df_final.select('order_id','days_elapsed').filter(df_final.days_elapsed==0)"
   ]
  },
  {
   "cell_type": "code",
   "execution_count": 65,
   "metadata": {},
   "outputs": [
    {
     "name": "stdout",
     "output_type": "stream",
     "text": [
      "+-------------+---------------+\n",
      "|department_id|     department|\n",
      "+-------------+---------------+\n",
      "|            1|         frozen|\n",
      "|            2|          other|\n",
      "|            3|         bakery|\n",
      "|            4|        produce|\n",
      "|            5|        alcohol|\n",
      "|            6|  international|\n",
      "|            7|      beverages|\n",
      "|            8|           pets|\n",
      "|            9|dry goods pasta|\n",
      "|           10|           bulk|\n",
      "|           11|  personal care|\n",
      "|           12|   meat seafood|\n",
      "|           13|         pantry|\n",
      "|           14|      breakfast|\n",
      "|           15|   canned goods|\n",
      "|           16|     dairy eggs|\n",
      "|           17|      household|\n",
      "|           18|         babies|\n",
      "|           19|         snacks|\n",
      "|           20|           deli|\n",
      "|           21|        missing|\n",
      "+-------------+---------------+\n",
      "\n"
     ]
    }
   ],
   "source": [
    "df_departments.show(39)"
   ]
  },
  {
   "cell_type": "code",
   "execution_count": null,
   "metadata": {},
   "outputs": [],
   "source": []
  }
 ],
 "metadata": {
  "hide_input": false,
  "kernelspec": {
   "display_name": "Python 3",
   "language": "python",
   "name": "python3"
  },
  "language_info": {
   "codemirror_mode": {
    "name": "ipython",
    "version": 3
   },
   "file_extension": ".py",
   "mimetype": "text/x-python",
   "name": "python",
   "nbconvert_exporter": "python",
   "pygments_lexer": "ipython3",
   "version": "3.7.3"
  }
 },
 "nbformat": 4,
 "nbformat_minor": 2
}
